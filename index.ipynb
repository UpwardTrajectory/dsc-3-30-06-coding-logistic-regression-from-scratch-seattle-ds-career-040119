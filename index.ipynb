{
 "cells": [
  {
   "cell_type": "markdown",
   "metadata": {},
   "source": [
    "# Coding Logistic Regression From Scratch - Lab\n",
    "\n",
    "## Introduction\n",
    "\n",
    "In this lab, you'll practice your ability to translate mathematical algorithms into python functions. This will deepen and solidify your understanding of the logistic regression!\n",
    "\n",
    "## Objectives\n",
    "\n",
    "You will be able to:\n",
    "* Understand and implement logistic regression"
   ]
  },
  {
   "cell_type": "markdown",
   "metadata": {},
   "source": [
    "## Overview\n",
    "\n",
    "Recall that the logistic regression algorithm take our previous intuition from logistic regression. In logistic regression, we start by taking our input data, X and multiplying it by a vector of weights for each of the individual features, which produces our output y. Afterwards we'll work on using an iterative approach via gradient descent to tune these weights."
   ]
  },
  {
   "cell_type": "markdown",
   "metadata": {},
   "source": [
    "## Linear Regression Setup\n",
    "\n",
    "Write a simple function `predict_y` that takes in a matrix `X` of observations and a vector of feature weights `w` and outputs a vector of predictions for the various observations.\n",
    "\n",
    "Recall that this is the sum of the product of each of the feature observations and their corresponding feature weights:  \n",
    "$ \\hat{y}_i = X_{i1} \\bullet w_1 + X_{i2} \\bullet w_2 + X_{i3} \\bullet w_3 + ... + X_{in} \\bullet w_n$\n",
    "\n",
    "Hint: think about which mathematical operation we previously discussed that will take a matrix (X) and multiply it by a vector of weights (w) to succinctly do this in a single operation."
   ]
  },
  {
   "cell_type": "code",
   "execution_count": 64,
   "metadata": {},
   "outputs": [
    {
     "data": {
      "text/plain": [
       "array([1.5, 3.5])"
      ]
     },
     "execution_count": 64,
     "metadata": {},
     "output_type": "execute_result"
    }
   ],
   "source": [
    "import numpy as np\n",
    "import doctest\n",
    "\n",
    "def predict_y(X, w):\n",
    "    '''Multiply two vectors (same size) element-wise:\n",
    "    >>> predict_y([1,2,3], [4,5,6])\n",
    "    array([ 4, 10, 18])\n",
    "    '''\n",
    "    return np.mean(np.multiply(X, w), axis=1)\n",
    "\n",
    "predict_y([[1, 2], [3, 4]], [1, 1])"
   ]
  },
  {
   "cell_type": "markdown",
   "metadata": {},
   "source": [
    "## The Sigmoid Function\n",
    "\n",
    "Recall that the sigmoid function is used to map our previous linear regression model to a range of 0 to 1, satisfying basic premises of probability. As a reminder, the sigmoid function is defined by:  \n",
    "$\\frac{1}{1+e^(-x)}$  \n",
    "Write this as a python function where x is the input and the function outputs the result of the sigmoid function."
   ]
  },
  {
   "cell_type": "code",
   "execution_count": 36,
   "metadata": {},
   "outputs": [],
   "source": [
    "def sigmoid(x):\n",
    "    return 1/(1 + np.exp(-x))"
   ]
  },
  {
   "cell_type": "markdown",
   "metadata": {},
   "source": [
    "## Graphing the Sigmoid\n",
    "\n",
    "For good measure, let's do a brief investigation of your new function. Graph the output of your sigmoid function using 10,000 X values evenly spaced from -20 to 20."
   ]
  },
  {
   "cell_type": "code",
   "execution_count": 37,
   "metadata": {},
   "outputs": [
    {
     "data": {
      "image/png": "[encoded data removed]",
      "text/plain": [
       "<Figure size 432x288 with 1 Axes>"
      ]
     },
     "metadata": {
      "needs_background": "light"
     },
     "output_type": "display_data"
    }
   ],
   "source": [
    "import seaborn as sns\n",
    "\n",
    "X_s = np.linspace(-20, 20, 10000)\n",
    "Y_s = [sigmoid(x) for x in X_s]\n",
    "sns.lineplot(X_s, Y_s);"
   ]
  },
  {
   "cell_type": "markdown",
   "metadata": {},
   "source": [
    "## Gradient Descent with the Sigmoid Function\n",
    "\n",
    "Recall that gradient descent is a numerical method for finding a minimum to a cost function. In the case of logistic regression, we are looking to minimize the error between our model's predictions and the actual data labels. To do this, we first calculate an error vector based on the current model's feature weights. We then multiply the transpose of the training matrix itself by this error vector in order to obtain the gradient. Finally, we take the gradient, multiply it by our step size and add this to our current weight vector to update it. Below, write such a function. It will take 5 inputs:  \n",
    "* X\n",
    "* y\n",
    "* max_iterations\n",
    "* alpha (the step size)\n",
    "* initial_weights  \n",
    "By default, have your function set the initial_weights parameter to a vector where all feature weights are set to 1."
   ]
  },
  {
   "cell_type": "code",
   "execution_count": 53,
   "metadata": {},
   "outputs": [],
   "source": [
    "# Your code here\n",
    "def grad_desc(X, y, max_iterations=10000, alpha=1/10000, initial_weights=None):\n",
    "    \"\"\"Be sure to set default behavior for the initial_weights parameter.\"\"\"\n",
    "    if initial_weights == None:\n",
    "        weights = np.ones(X.shape[1])\n",
    "    else:\n",
    "        weights = initial_weights\n",
    "        \n",
    "    #Create a for loop of iterations\n",
    "    for i in range(max_iterations):\n",
    "        print(weights)\n",
    "        \n",
    "        #Generate predictions using the current feature weights\n",
    "        y_preds = predict_y(sigmoid(X), weights)\n",
    "        print(' ')\n",
    "        print('Y predictions ____________')\n",
    "        print(y_preds)\n",
    "        \n",
    "        #Calculate an error vector based on these initial predictions and the correct labels\n",
    "        print(' ')\n",
    "        print('error ____________')\n",
    "        error_vector = y - y_preds\n",
    "        print(error_vector)\n",
    "        \n",
    "        #Calculate the gradient \n",
    "        #As we saw in the previous lab, calculating the gradient is often the most difficult task.\n",
    "        #Here, your are provided with the closed form solution for the gradient of the log-loss function derived from MLE\n",
    "        #For more details on the derivation, see the additional resources section below.\n",
    "        gradient = np.dot(X.transpose(), error_vector) \n",
    "        print(' ')\n",
    "        print('gradient ____________')\n",
    "        print(gradient)\n",
    "        \n",
    "        #Update the weight vector take a step of alpha in direction of gradient\n",
    "        weights += gradient * alpha\n",
    "        \n",
    "    #Return finalized Weights\n",
    "    return weights"
   ]
  },
  {
   "cell_type": "markdown",
   "metadata": {},
   "source": [
    "## Running Your Algorithm\n",
    "\n",
    "Now that we've coded everything from the ground up, we can further investigate the convergence behavior of our gradient descent algorithm. Remember that gradient descent does not gaurantee a global minimum, only a local minimum, and that small deviations in the starting point or step size can lead to different outputs.  \n",
    "  \n",
    "Let's begin by running our algorithm and plotting the successive weights of the features through iterations. Below is a dataset, with X and y predefined for you. Use your logistic regression function to find train a model. As the model trains, record the iteration cycle of the gradient descent algorithm and the weights of the various features. Then, plot this data on subplots for each of the individual features. Each graph should have the iteration number on the x-axis and the value of that feature weight for that iteration cycle on the y-axis. This will visually display how the algorithm is adjusting the weights over successive iterations, and hopefully show convergence on stable weights."
   ]
  },
  {
   "cell_type": "code",
   "execution_count": 54,
   "metadata": {},
   "outputs": [
    {
     "name": "stdout",
     "output_type": "stream",
     "text": [
      "1.0    165\n",
      "0.0    138\n",
      "Name: target, dtype: int64\n",
      "[1. 1. 1. 1. 1. 1. 1. 1. 1. 1. 1. 1. 1.]\n",
      " \n",
      "Y predictions ____________\n",
      "          age       sex        cp  trestbps      chol       fbs   restecg  \\\n",
      "0    0.670033  0.731059  0.731059  0.618015  0.560771  0.731059  0.500000   \n",
      "1    0.541570  0.731059  0.660756  0.584099  0.570307  0.500000  0.622459   \n",
      "2    0.562177  0.500000  0.582570  0.584099  0.544403  0.500000  0.500000   \n",
      "3    0.637031  0.731059  0.582570  0.561015  0.562457  0.500000  0.622459   \n",
      "4    0.641834  0.500000  0.500000  0.561015  0.627276  0.500000  0.622459   \n",
      "5    0.641834  0.731059  0.500000  0.606819  0.537600  0.500000  0.622459   \n",
      "6    0.637031  0.500000  0.582570  0.606819  0.594732  0.500000  0.500000   \n",
      "7    0.577495  0.731059  0.582570  0.561015  0.577565  0.500000  0.622459   \n",
      "8    0.617551  0.731059  0.660756  0.676087  0.541570  0.731059  0.622459   \n",
      "9    0.641834  0.731059  0.660756  0.629087  0.523954  0.500000  0.622459   \n",
      "10   0.627343  0.731059  0.500000  0.606819  0.564142  0.500000  0.622459   \n",
      "11   0.597686  0.500000  0.660756  0.584099  0.584235  0.500000  0.622459   \n",
      "12   0.602685  0.731059  0.582570  0.584099  0.579235  0.500000  0.622459   \n",
      "13   0.674622  0.731059  0.731059  0.537664  0.548364  0.500000  0.500000   \n",
      "14   0.646609  0.500000  0.731059  0.629087  0.588665  0.731059  0.500000   \n",
      "15   0.607663  0.500000  0.660756  0.561015  0.552884  0.500000  0.622459   \n",
      "16   0.646609  0.500000  0.660756  0.561015  0.619773  0.500000  0.622459   \n",
      "17   0.683701  0.500000  0.731059  0.629087  0.556831  0.500000  0.622459   \n",
      "18   0.572404  0.731059  0.500000  0.629087  0.568628  0.500000  0.622459   \n",
      "19   0.697059  0.500000  0.731059  0.606819  0.564142  0.500000  0.622459   \n",
      "20   0.651355  0.731059  0.500000  0.595510  0.561333  0.500000  0.622459   \n",
      "21   0.577495  0.731059  0.660756  0.584099  0.560771  0.500000  0.622459   \n",
      "22   0.567297  0.731059  0.500000  0.606819  0.556831  0.500000  0.622459   \n",
      "23   0.660756  0.731059  0.660756  0.629087  0.566387  0.731059  0.622459   \n",
      "24   0.557042  0.731059  0.731059  0.606819  0.541570  0.500000  0.622459   \n",
      "25   0.705785  0.500000  0.582570  0.650819  0.599126  0.500000  0.622459   \n",
      "26   0.651355  0.731059  0.660756  0.629087  0.548930  0.731059  0.622459   \n",
      "27   0.612619  0.731059  0.660756  0.537664  0.527939  0.500000  0.622459   \n",
      "28   0.679179  0.500000  0.660756  0.606819  0.660244  0.731059  0.500000   \n",
      "29   0.622459  0.731059  0.660756  0.584099  0.540437  0.731059  0.500000   \n",
      "..        ...       ...       ...       ...       ...       ...       ...   \n",
      "273  0.646609  0.731059  0.500000  0.514147  0.561333  0.500000  0.622459   \n",
      "274  0.592667  0.731059  0.500000  0.537664  0.584235  0.500000  0.500000   \n",
      "275  0.617551  0.731059  0.500000  0.572597  0.548930  0.500000  0.622459   \n",
      "276  0.646609  0.731059  0.500000  0.620240  0.552319  0.500000  0.622459   \n",
      "277  0.641834  0.731059  0.582570  0.570286  0.576451  0.500000  0.622459   \n",
      "278  0.646609  0.500000  0.582570  0.597781  0.608411  0.731059  0.500000   \n",
      "279  0.660756  0.731059  0.500000  0.602309  0.522815  0.500000  0.500000   \n",
      "280  0.567297  0.731059  0.500000  0.597781  0.606233  0.500000  0.622459   \n",
      "281  0.617551  0.731059  0.500000  0.579508  0.544403  0.731059  0.622459   \n",
      "282  0.651355  0.731059  0.660756  0.574904  0.552319  0.731059  0.622459   \n",
      "283  0.557042  0.731059  0.500000  0.633479  0.555140  0.500000  0.622459   \n",
      "284  0.660756  0.731059  0.500000  0.606819  0.546102  0.500000  0.500000   \n",
      "285  0.587628  0.731059  0.500000  0.606819  0.604051  0.500000  0.622459   \n",
      "286  0.651355  0.731059  0.731059  0.593236  0.544403  0.500000  0.622459   \n",
      "287  0.641834  0.731059  0.582570  0.637848  0.560209  0.500000  0.500000   \n",
      "288  0.641834  0.731059  0.500000  0.537664  0.617079  0.500000  0.622459   \n",
      "289  0.632200  0.500000  0.500000  0.579508  0.544969  0.500000  0.731059   \n",
      "290  0.660756  0.731059  0.500000  0.624674  0.543837  0.500000  0.622459   \n",
      "291  0.646609  0.731059  0.500000  0.547030  0.607867  0.500000  0.731059   \n",
      "292  0.646609  0.500000  0.500000  0.671942  0.556268  0.731059  0.500000   \n",
      "293  0.688189  0.731059  0.660756  0.633479  0.548930  0.500000  0.500000   \n",
      "294  0.577495  0.731059  0.500000  0.561015  0.524524  0.500000  0.622459   \n",
      "295  0.670033  0.731059  0.500000  0.606819  0.534761  0.500000  0.500000   \n",
      "296  0.670033  0.500000  0.500000  0.570286  0.540437  0.500000  0.622459   \n",
      "297  0.651355  0.731059  0.500000  0.659345  0.528508  0.731059  0.500000   \n",
      "298  0.641834  0.500000  0.500000  0.606819  0.565265  0.500000  0.622459   \n",
      "299  0.582570  0.731059  0.731059  0.537664  0.578122  0.500000  0.622459   \n",
      "300  0.692642  0.731059  0.500000  0.615786  0.538168  0.731059  0.622459   \n",
      "301  0.641834  0.731059  0.500000  0.584099  0.502854  0.500000  0.622459   \n",
      "302  0.641834  0.500000  0.582570  0.584099  0.562457  0.500000  0.500000   \n",
      "\n",
      "      thalach     exang   oldpeak     slope        ca      thal  \n",
      "0    0.646355  0.500000  0.591693  0.500000  0.500000  0.582570  \n",
      "1    0.707960  0.500000  0.637497  0.500000  0.500000  0.660756  \n",
      "2    0.683736  0.500000  0.556213  0.731059  0.500000  0.660756  \n",
      "3    0.693555  0.500000  0.532213  0.731059  0.500000  0.660756  \n",
      "4    0.668695  0.731059  0.524175  0.731059  0.500000  0.660756  \n",
      "5    0.642857  0.500000  0.516123  0.622459  0.500000  0.582570  \n",
      "6    0.651572  0.500000  0.552228  0.622459  0.500000  0.660756  \n",
      "7    0.685384  0.500000  0.500000  0.731059  0.500000  0.731059  \n",
      "8    0.667002  0.500000  0.520150  0.731059  0.500000  0.731059  \n",
      "9    0.687028  0.500000  0.564160  0.731059  0.500000  0.660756  \n",
      "10   0.663602  0.500000  0.548237  0.731059  0.500000  0.660756  \n",
      "11   0.626934  0.500000  0.508064  0.731059  0.500000  0.660756  \n",
      "12   0.682083  0.500000  0.524175  0.731059  0.500000  0.660756  \n",
      "13   0.635816  0.731059  0.572075  0.622459  0.500000  0.660756  \n",
      "14   0.667002  0.500000  0.540235  0.731059  0.500000  0.660756  \n",
      "15   0.660186  0.500000  0.564160  0.622459  0.500000  0.660756  \n",
      "16   0.683736  0.500000  0.500000  0.731059  0.500000  0.660756  \n",
      "17   0.581332  0.500000  0.603329  0.500000  0.500000  0.660756  \n",
      "18   0.682083  0.500000  0.560191  0.731059  0.500000  0.660756  \n",
      "19   0.648098  0.500000  0.572075  0.731059  0.622459  0.660756  \n",
      "20   0.665304  0.500000  0.520150  0.622459  0.500000  0.731059  \n",
      "21   0.695175  0.731059  0.516123  0.731059  0.500000  0.660756  \n",
      "22   0.693555  0.500000  0.500000  0.731059  0.500000  0.660756  \n",
      "23   0.623356  0.731059  0.540235  0.622459  0.500000  0.660756  \n",
      "24   0.693555  0.731059  0.556213  0.731059  0.500000  0.731059  \n",
      "25   0.667002  0.500000  0.516123  0.731059  0.622459  0.660756  \n",
      "26   0.658471  0.500000  0.564160  0.731059  0.500000  0.660756  \n",
      "27   0.597954  0.500000  0.524175  0.731059  0.500000  0.660756  \n",
      "28   0.658471  0.500000  0.532213  0.731059  0.562177  0.660756  \n",
      "29   0.649837  0.500000  0.548237  0.500000  0.500000  0.660756  \n",
      "..        ...       ...       ...       ...       ...       ...  \n",
      "273  0.656752  0.500000  0.504032  0.731059  0.562177  0.731059  \n",
      "274  0.588745  0.731059  0.540235  0.622459  0.562177  0.660756  \n",
      "275  0.677096  0.500000  0.540235  0.731059  0.622459  0.731059  \n",
      "276  0.564524  0.500000  0.579953  0.622459  0.562177  0.731059  \n",
      "277  0.630497  0.500000  0.512094  0.731059  0.500000  0.731059  \n",
      "278  0.649837  0.500000  0.500000  0.731059  0.622459  0.660756  \n",
      "279  0.601619  0.731059  0.641216  0.622459  0.562177  0.660756  \n",
      "280  0.601619  0.731059  0.572075  0.622459  0.500000  0.582570  \n",
      "281  0.656752  0.731059  0.540235  0.622459  0.500000  0.500000  \n",
      "282  0.617964  0.500000  0.587790  0.622459  0.562177  0.582570  \n",
      "283  0.698401  0.500000  0.500000  0.731059  0.500000  0.731059  \n",
      "284  0.625146  0.731059  0.576019  0.731059  0.562177  0.731059  \n",
      "285  0.592436  0.731059  0.572075  0.622459  0.622459  0.731059  \n",
      "286  0.667002  0.500000  0.532213  0.731059  0.622459  0.660756  \n",
      "287  0.670384  0.500000  0.500000  0.731059  0.562177  0.660756  \n",
      "288  0.634047  0.731059  0.618662  0.622459  0.562177  0.731059  \n",
      "289  0.610730  0.731059  0.579953  0.622459  0.562177  0.731059  \n",
      "290  0.665304  0.500000  0.500000  0.731059  0.562177  0.731059  \n",
      "291  0.628717  0.500000  0.670330  0.500000  0.679179  0.582570  \n",
      "292  0.639344  0.731059  0.611023  0.622459  0.622459  0.582570  \n",
      "293  0.646355  0.500000  0.532213  0.622459  0.500000  0.731059  \n",
      "294  0.635816  0.731059  0.611023  0.500000  0.500000  0.582570  \n",
      "295  0.635816  0.731059  0.655919  0.731059  0.622459  0.731059  \n",
      "296  0.621562  0.731059  0.500000  0.622459  0.500000  0.660756  \n",
      "297  0.536196  0.500000  0.540235  0.622459  0.622459  0.582570  \n",
      "298  0.597954  0.731059  0.508064  0.622459  0.500000  0.731059  \n",
      "299  0.614353  0.500000  0.548237  0.622459  0.500000  0.731059  \n",
      "300  0.630497  0.500000  0.633761  0.622459  0.622459  0.731059  \n",
      "301  0.583189  0.731059  0.548237  0.622459  0.562177  0.731059  \n",
      "302  0.687028  0.500000  0.500000  0.622459  0.562177  0.660756  \n",
      "\n",
      "[303 rows x 13 columns]\n",
      " \n",
      "error ____________\n",
      "     age  sex  cp  trestbps  chol  fbs  restecg  thalach  exang  oldpeak ...   \\\n",
      "0    NaN  NaN NaN       NaN   NaN  NaN      NaN      NaN    NaN      NaN ...    \n",
      "1    NaN  NaN NaN       NaN   NaN  NaN      NaN      NaN    NaN      NaN ...    \n",
      "2    NaN  NaN NaN       NaN   NaN  NaN      NaN      NaN    NaN      NaN ...    \n",
      "3    NaN  NaN NaN       NaN   NaN  NaN      NaN      NaN    NaN      NaN ...    \n",
      "4    NaN  NaN NaN       NaN   NaN  NaN      NaN      NaN    NaN      NaN ...    \n",
      "5    NaN  NaN NaN       NaN   NaN  NaN      NaN      NaN    NaN      NaN ...    \n",
      "6    NaN  NaN NaN       NaN   NaN  NaN      NaN      NaN    NaN      NaN ...    \n",
      "7    NaN  NaN NaN       NaN   NaN  NaN      NaN      NaN    NaN      NaN ...    \n",
      "8    NaN  NaN NaN       NaN   NaN  NaN      NaN      NaN    NaN      NaN ...    \n",
      "9    NaN  NaN NaN       NaN   NaN  NaN      NaN      NaN    NaN      NaN ...    \n",
      "10   NaN  NaN NaN       NaN   NaN  NaN      NaN      NaN    NaN      NaN ...    \n",
      "11   NaN  NaN NaN       NaN   NaN  NaN      NaN      NaN    NaN      NaN ...    \n",
      "12   NaN  NaN NaN       NaN   NaN  NaN      NaN      NaN    NaN      NaN ...    \n",
      "13   NaN  NaN NaN       NaN   NaN  NaN      NaN      NaN    NaN      NaN ...    \n",
      "14   NaN  NaN NaN       NaN   NaN  NaN      NaN      NaN    NaN      NaN ...    \n",
      "15   NaN  NaN NaN       NaN   NaN  NaN      NaN      NaN    NaN      NaN ...    \n",
      "16   NaN  NaN NaN       NaN   NaN  NaN      NaN      NaN    NaN      NaN ...    \n",
      "17   NaN  NaN NaN       NaN   NaN  NaN      NaN      NaN    NaN      NaN ...    \n",
      "18   NaN  NaN NaN       NaN   NaN  NaN      NaN      NaN    NaN      NaN ...    \n",
      "19   NaN  NaN NaN       NaN   NaN  NaN      NaN      NaN    NaN      NaN ...    \n",
      "20   NaN  NaN NaN       NaN   NaN  NaN      NaN      NaN    NaN      NaN ...    \n",
      "21   NaN  NaN NaN       NaN   NaN  NaN      NaN      NaN    NaN      NaN ...    \n",
      "22   NaN  NaN NaN       NaN   NaN  NaN      NaN      NaN    NaN      NaN ...    \n",
      "23   NaN  NaN NaN       NaN   NaN  NaN      NaN      NaN    NaN      NaN ...    \n",
      "24   NaN  NaN NaN       NaN   NaN  NaN      NaN      NaN    NaN      NaN ...    \n",
      "25   NaN  NaN NaN       NaN   NaN  NaN      NaN      NaN    NaN      NaN ...    \n",
      "26   NaN  NaN NaN       NaN   NaN  NaN      NaN      NaN    NaN      NaN ...    \n",
      "27   NaN  NaN NaN       NaN   NaN  NaN      NaN      NaN    NaN      NaN ...    \n",
      "28   NaN  NaN NaN       NaN   NaN  NaN      NaN      NaN    NaN      NaN ...    \n",
      "29   NaN  NaN NaN       NaN   NaN  NaN      NaN      NaN    NaN      NaN ...    \n",
      "..   ...  ...  ..       ...   ...  ...      ...      ...    ...      ... ...    \n",
      "273  NaN  NaN NaN       NaN   NaN  NaN      NaN      NaN    NaN      NaN ...    \n",
      "274  NaN  NaN NaN       NaN   NaN  NaN      NaN      NaN    NaN      NaN ...    \n",
      "275  NaN  NaN NaN       NaN   NaN  NaN      NaN      NaN    NaN      NaN ...    \n",
      "276  NaN  NaN NaN       NaN   NaN  NaN      NaN      NaN    NaN      NaN ...    \n",
      "277  NaN  NaN NaN       NaN   NaN  NaN      NaN      NaN    NaN      NaN ...    \n",
      "278  NaN  NaN NaN       NaN   NaN  NaN      NaN      NaN    NaN      NaN ...    \n",
      "279  NaN  NaN NaN       NaN   NaN  NaN      NaN      NaN    NaN      NaN ...    \n",
      "280  NaN  NaN NaN       NaN   NaN  NaN      NaN      NaN    NaN      NaN ...    \n",
      "281  NaN  NaN NaN       NaN   NaN  NaN      NaN      NaN    NaN      NaN ...    \n",
      "282  NaN  NaN NaN       NaN   NaN  NaN      NaN      NaN    NaN      NaN ...    \n",
      "283  NaN  NaN NaN       NaN   NaN  NaN      NaN      NaN    NaN      NaN ...    \n",
      "284  NaN  NaN NaN       NaN   NaN  NaN      NaN      NaN    NaN      NaN ...    \n",
      "285  NaN  NaN NaN       NaN   NaN  NaN      NaN      NaN    NaN      NaN ...    \n",
      "286  NaN  NaN NaN       NaN   NaN  NaN      NaN      NaN    NaN      NaN ...    \n",
      "287  NaN  NaN NaN       NaN   NaN  NaN      NaN      NaN    NaN      NaN ...    \n",
      "288  NaN  NaN NaN       NaN   NaN  NaN      NaN      NaN    NaN      NaN ...    \n",
      "289  NaN  NaN NaN       NaN   NaN  NaN      NaN      NaN    NaN      NaN ...    \n",
      "290  NaN  NaN NaN       NaN   NaN  NaN      NaN      NaN    NaN      NaN ...    \n",
      "291  NaN  NaN NaN       NaN   NaN  NaN      NaN      NaN    NaN      NaN ...    \n",
      "292  NaN  NaN NaN       NaN   NaN  NaN      NaN      NaN    NaN      NaN ...    \n",
      "293  NaN  NaN NaN       NaN   NaN  NaN      NaN      NaN    NaN      NaN ...    \n",
      "294  NaN  NaN NaN       NaN   NaN  NaN      NaN      NaN    NaN      NaN ...    \n",
      "295  NaN  NaN NaN       NaN   NaN  NaN      NaN      NaN    NaN      NaN ...    \n",
      "296  NaN  NaN NaN       NaN   NaN  NaN      NaN      NaN    NaN      NaN ...    \n",
      "297  NaN  NaN NaN       NaN   NaN  NaN      NaN      NaN    NaN      NaN ...    \n",
      "298  NaN  NaN NaN       NaN   NaN  NaN      NaN      NaN    NaN      NaN ...    \n",
      "299  NaN  NaN NaN       NaN   NaN  NaN      NaN      NaN    NaN      NaN ...    \n",
      "300  NaN  NaN NaN       NaN   NaN  NaN      NaN      NaN    NaN      NaN ...    \n",
      "301  NaN  NaN NaN       NaN   NaN  NaN      NaN      NaN    NaN      NaN ...    \n",
      "302  NaN  NaN NaN       NaN   NaN  NaN      NaN      NaN    NaN      NaN ...    \n",
      "\n",
      "     293  294  295  296  297  298  299  300  301  302  \n",
      "0    NaN  NaN  NaN  NaN  NaN  NaN  NaN  NaN  NaN  NaN  \n",
      "1    NaN  NaN  NaN  NaN  NaN  NaN  NaN  NaN  NaN  NaN  \n",
      "2    NaN  NaN  NaN  NaN  NaN  NaN  NaN  NaN  NaN  NaN  \n",
      "3    NaN  NaN  NaN  NaN  NaN  NaN  NaN  NaN  NaN  NaN  \n",
      "4    NaN  NaN  NaN  NaN  NaN  NaN  NaN  NaN  NaN  NaN  \n",
      "5    NaN  NaN  NaN  NaN  NaN  NaN  NaN  NaN  NaN  NaN  \n",
      "6    NaN  NaN  NaN  NaN  NaN  NaN  NaN  NaN  NaN  NaN  \n",
      "7    NaN  NaN  NaN  NaN  NaN  NaN  NaN  NaN  NaN  NaN  \n",
      "8    NaN  NaN  NaN  NaN  NaN  NaN  NaN  NaN  NaN  NaN  \n",
      "9    NaN  NaN  NaN  NaN  NaN  NaN  NaN  NaN  NaN  NaN  \n",
      "10   NaN  NaN  NaN  NaN  NaN  NaN  NaN  NaN  NaN  NaN  \n",
      "11   NaN  NaN  NaN  NaN  NaN  NaN  NaN  NaN  NaN  NaN  \n",
      "12   NaN  NaN  NaN  NaN  NaN  NaN  NaN  NaN  NaN  NaN  \n",
      "13   NaN  NaN  NaN  NaN  NaN  NaN  NaN  NaN  NaN  NaN  \n",
      "14   NaN  NaN  NaN  NaN  NaN  NaN  NaN  NaN  NaN  NaN  \n",
      "15   NaN  NaN  NaN  NaN  NaN  NaN  NaN  NaN  NaN  NaN  \n",
      "16   NaN  NaN  NaN  NaN  NaN  NaN  NaN  NaN  NaN  NaN  \n",
      "17   NaN  NaN  NaN  NaN  NaN  NaN  NaN  NaN  NaN  NaN  \n",
      "18   NaN  NaN  NaN  NaN  NaN  NaN  NaN  NaN  NaN  NaN  \n",
      "19   NaN  NaN  NaN  NaN  NaN  NaN  NaN  NaN  NaN  NaN  \n",
      "20   NaN  NaN  NaN  NaN  NaN  NaN  NaN  NaN  NaN  NaN  \n",
      "21   NaN  NaN  NaN  NaN  NaN  NaN  NaN  NaN  NaN  NaN  \n",
      "22   NaN  NaN  NaN  NaN  NaN  NaN  NaN  NaN  NaN  NaN  \n",
      "23   NaN  NaN  NaN  NaN  NaN  NaN  NaN  NaN  NaN  NaN  \n",
      "24   NaN  NaN  NaN  NaN  NaN  NaN  NaN  NaN  NaN  NaN  \n",
      "25   NaN  NaN  NaN  NaN  NaN  NaN  NaN  NaN  NaN  NaN  \n",
      "26   NaN  NaN  NaN  NaN  NaN  NaN  NaN  NaN  NaN  NaN  \n",
      "27   NaN  NaN  NaN  NaN  NaN  NaN  NaN  NaN  NaN  NaN  \n",
      "28   NaN  NaN  NaN  NaN  NaN  NaN  NaN  NaN  NaN  NaN  \n",
      "29   NaN  NaN  NaN  NaN  NaN  NaN  NaN  NaN  NaN  NaN  \n",
      "..   ...  ...  ...  ...  ...  ...  ...  ...  ...  ...  \n",
      "273  NaN  NaN  NaN  NaN  NaN  NaN  NaN  NaN  NaN  NaN  \n",
      "274  NaN  NaN  NaN  NaN  NaN  NaN  NaN  NaN  NaN  NaN  \n",
      "275  NaN  NaN  NaN  NaN  NaN  NaN  NaN  NaN  NaN  NaN  \n",
      "276  NaN  NaN  NaN  NaN  NaN  NaN  NaN  NaN  NaN  NaN  \n",
      "277  NaN  NaN  NaN  NaN  NaN  NaN  NaN  NaN  NaN  NaN  \n",
      "278  NaN  NaN  NaN  NaN  NaN  NaN  NaN  NaN  NaN  NaN  \n",
      "279  NaN  NaN  NaN  NaN  NaN  NaN  NaN  NaN  NaN  NaN  \n",
      "280  NaN  NaN  NaN  NaN  NaN  NaN  NaN  NaN  NaN  NaN  \n",
      "281  NaN  NaN  NaN  NaN  NaN  NaN  NaN  NaN  NaN  NaN  \n",
      "282  NaN  NaN  NaN  NaN  NaN  NaN  NaN  NaN  NaN  NaN  \n",
      "283  NaN  NaN  NaN  NaN  NaN  NaN  NaN  NaN  NaN  NaN  \n",
      "284  NaN  NaN  NaN  NaN  NaN  NaN  NaN  NaN  NaN  NaN  \n",
      "285  NaN  NaN  NaN  NaN  NaN  NaN  NaN  NaN  NaN  NaN  \n",
      "286  NaN  NaN  NaN  NaN  NaN  NaN  NaN  NaN  NaN  NaN  \n",
      "287  NaN  NaN  NaN  NaN  NaN  NaN  NaN  NaN  NaN  NaN  \n",
      "288  NaN  NaN  NaN  NaN  NaN  NaN  NaN  NaN  NaN  NaN  \n",
      "289  NaN  NaN  NaN  NaN  NaN  NaN  NaN  NaN  NaN  NaN  \n",
      "290  NaN  NaN  NaN  NaN  NaN  NaN  NaN  NaN  NaN  NaN  \n",
      "291  NaN  NaN  NaN  NaN  NaN  NaN  NaN  NaN  NaN  NaN  \n",
      "292  NaN  NaN  NaN  NaN  NaN  NaN  NaN  NaN  NaN  NaN  \n",
      "293  NaN  NaN  NaN  NaN  NaN  NaN  NaN  NaN  NaN  NaN  \n",
      "294  NaN  NaN  NaN  NaN  NaN  NaN  NaN  NaN  NaN  NaN  \n",
      "295  NaN  NaN  NaN  NaN  NaN  NaN  NaN  NaN  NaN  NaN  \n",
      "296  NaN  NaN  NaN  NaN  NaN  NaN  NaN  NaN  NaN  NaN  \n",
      "297  NaN  NaN  NaN  NaN  NaN  NaN  NaN  NaN  NaN  NaN  \n",
      "298  NaN  NaN  NaN  NaN  NaN  NaN  NaN  NaN  NaN  NaN  \n",
      "299  NaN  NaN  NaN  NaN  NaN  NaN  NaN  NaN  NaN  NaN  \n",
      "300  NaN  NaN  NaN  NaN  NaN  NaN  NaN  NaN  NaN  NaN  \n",
      "301  NaN  NaN  NaN  NaN  NaN  NaN  NaN  NaN  NaN  NaN  \n",
      "302  NaN  NaN  NaN  NaN  NaN  NaN  NaN  NaN  NaN  NaN  \n",
      "\n",
      "[303 rows x 316 columns]\n",
      " \n",
      "gradient ____________\n",
      "[[nan nan nan ... nan nan nan]\n",
      " [nan nan nan ... nan nan nan]\n",
      " [nan nan nan ... nan nan nan]\n",
      " ...\n",
      " [nan nan nan ... nan nan nan]\n",
      " [nan nan nan ... nan nan nan]\n",
      " [nan nan nan ... nan nan nan]]\n"
     ]
    },
    {
     "name": "stderr",
     "output_type": "stream",
     "text": [
      "/opt/conda/envs/learn-env/lib/python3.6/site-packages/pandas/core/indexes/base.py:3772: RuntimeWarning: '<' not supported between instances of 'str' and 'int', sort order is undefined for incomparable objects\n",
      "  return this.join(other, how=how, return_indexers=return_indexers)\n"
     ]
    },
    {
     "ename": "ValueError",
     "evalue": "operands could not be broadcast together with shapes (13,) (13,316) (13,) ",
     "output_type": "error",
     "traceback": [
      "\u001b[0;31m\u001b[0m",
      "\u001b[0;31mValueError\u001b[0mTraceback (most recent call last)",
      "\u001b[0;32m<ipython-input-54-c94419467214>\u001b[0m in \u001b[0;36m<module>\u001b[0;34m()\u001b[0m\n\u001b[1;32m      9\u001b[0m \u001b[0mprint\u001b[0m\u001b[0;34m(\u001b[0m\u001b[0my\u001b[0m\u001b[0;34m.\u001b[0m\u001b[0mvalue_counts\u001b[0m\u001b[0;34m(\u001b[0m\u001b[0;34m)\u001b[0m\u001b[0;34m)\u001b[0m\u001b[0;34m\u001b[0m\u001b[0m\n\u001b[1;32m     10\u001b[0m \u001b[0mX\u001b[0m\u001b[0;34m.\u001b[0m\u001b[0mhead\u001b[0m\u001b[0;34m(\u001b[0m\u001b[0;34m)\u001b[0m\u001b[0;34m\u001b[0m\u001b[0m\n\u001b[0;32m---> 11\u001b[0;31m \u001b[0mgrad_desc\u001b[0m\u001b[0;34m(\u001b[0m\u001b[0mX\u001b[0m\u001b[0;34m,\u001b[0m \u001b[0my\u001b[0m\u001b[0;34m)\u001b[0m\u001b[0;34m\u001b[0m\u001b[0m\n\u001b[0m",
      "\u001b[0;32m<ipython-input-53-ca008ec2566d>\u001b[0m in \u001b[0;36mgrad_desc\u001b[0;34m(X, y, max_iterations, alpha, initial_weights)\u001b[0m\n\u001b[1;32m     33\u001b[0m \u001b[0;34m\u001b[0m\u001b[0m\n\u001b[1;32m     34\u001b[0m         \u001b[0;31m#Update the weight vector take a step of alpha in direction of gradient\u001b[0m\u001b[0;34m\u001b[0m\u001b[0;34m\u001b[0m\u001b[0m\n\u001b[0;32m---> 35\u001b[0;31m         \u001b[0mweights\u001b[0m \u001b[0;34m+=\u001b[0m \u001b[0mgradient\u001b[0m \u001b[0;34m*\u001b[0m \u001b[0malpha\u001b[0m\u001b[0;34m\u001b[0m\u001b[0m\n\u001b[0m\u001b[1;32m     36\u001b[0m \u001b[0;34m\u001b[0m\u001b[0m\n\u001b[1;32m     37\u001b[0m     \u001b[0;31m#Return finalized Weights\u001b[0m\u001b[0;34m\u001b[0m\u001b[0;34m\u001b[0m\u001b[0m\n",
      "\u001b[0;31mValueError\u001b[0m: operands could not be broadcast together with shapes (13,) (13,316) (13,) "
     ]
    }
   ],
   "source": [
    "import pandas as pd\n",
    "import numpy as np\n",
    "\n",
    "df = pd.read_csv('heart.csv')\n",
    "\n",
    "X = df[df.columns[:-1]]\n",
    "y = df.target\n",
    "\n",
    "print(y.value_counts())\n",
    "X.head()\n",
    "grad_desc(X, y)"
   ]
  },
  {
   "cell_type": "markdown",
   "metadata": {},
   "source": [
    "## sci-kit learn\n",
    "\n",
    "For comparison, import sci-kit learn's standard LogisticRegression function. Initialize a regression object with **no intercept** and with **C=1e16** or another very high number. The reason is as follows: our implementation has not used an intercept, and we have not performed any regularization such as Lasso or Ridge (sci-kit learn uses l2 by default). The high value of C will essentially negate this.\n",
    "\n",
    "After initializing a regression object, fit it to X and y."
   ]
  },
  {
   "cell_type": "code",
   "execution_count": null,
   "metadata": {},
   "outputs": [],
   "source": [
    "# Your code here"
   ]
  },
  {
   "cell_type": "markdown",
   "metadata": {},
   "source": [
    "## Compare the models\n",
    "\n",
    "Compare the coefficient weights of your model to that generated by sci-kit learn."
   ]
  },
  {
   "cell_type": "code",
   "execution_count": 212,
   "metadata": {},
   "outputs": [],
   "source": [
    "# Your code here"
   ]
  },
  {
   "cell_type": "markdown",
   "metadata": {},
   "source": [
    "## Level - Up\n",
    "\n",
    "Update the gradient descent algorithm to also return the prediction error after each iteration. Then rerun the algorithm and create a graph displaying the prediction errors versus the iteration number."
   ]
  },
  {
   "cell_type": "code",
   "execution_count": null,
   "metadata": {},
   "outputs": [],
   "source": [
    "# Your code here"
   ]
  },
  {
   "cell_type": "markdown",
   "metadata": {},
   "source": [
    "## Additional Resources\n",
    "\n",
    "If you want to see more of the mathematics behind the gradient derivation above, check out section 4.4.1 from the Elements of Statistical Learning which can be found here: https://web.stanford.edu/~hastie/ElemStatLearn//."
   ]
  },
  {
   "cell_type": "markdown",
   "metadata": {},
   "source": [
    "## Summary\n",
    "\n",
    "Congratulations! You just coded logistic regression from the ground up using NumPy! With this, you should have a fairly deep understanding of logistic regression and how the algorithm works! In the upcoming labs, we'll continue to explore this from a few more angles, plotting our data along with the decision boundary for our predictions."
   ]
  }
 ],
 "metadata": {
  "kernelspec": {
   "display_name": "Python 3",
   "language": "python",
   "name": "python3"
  },
  "language_info": {
   "codemirror_mode": {
    "name": "ipython",
    "version": 3
   },
   "file_extension": ".py",
   "mimetype": "text/x-python",
   "name": "python",
   "nbconvert_exporter": "python",
   "pygments_lexer": "ipython3",
   "version": "3.6.6"
  }
 },
 "nbformat": 4,
 "nbformat_minor": 2
}
