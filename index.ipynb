{
 "cells": [
  {
   "cell_type": "markdown",
   "metadata": {},
   "source": [
    "# Coding Logistic Regression From Scratch - Lab\n",
    "\n",
    "## Introduction\n",
    "\n",
    "In this lab, you'll practice your ability to translate mathematical algorithms into python functions. This will deepen and solidify your understanding of the logistic regression!\n",
    "\n",
    "## Objectives\n",
    "\n",
    "You will be able to:\n",
    "* Understand and implement logistic regression"
   ]
  },
  {
   "cell_type": "markdown",
   "metadata": {},
   "source": [
    "## Overview\n",
    "\n",
    "Recall that the logistic regression algorithm take our previous intuition from logistic regression. In logistic regression, we start by taking our input data, X and multiplying it by a vector of weights for each of the individual features, which produces our output y. Afterwards we'll work on using an iterative approach via gradient descent to tune these weights."
   ]
  },
  {
   "cell_type": "markdown",
   "metadata": {},
   "source": [
    "## Linear Regression Setup\n",
    "\n",
    "Write a simple function `predict_y` that takes in a matrix `X` of observations and a vector of feature weights `w` and outputs a vector of predictions for the various observations.\n",
    "\n",
    "Recall that this is the sum of the product of each of the feature observations and their corresponding feature weights:  \n",
    "$ \\hat{y}_i = X_{i1} \\bullet w_1 + X_{i2} \\bullet w_2 + X_{i3} \\bullet w_3 + ... + X_{in} \\bullet w_n$\n",
    "\n",
    "Hint: think about which mathematical operation we previously discussed that will take a matrix (X) and multiply it by a vector of weights (w) to succinctly do this in a single operation."
   ]
  },
  {
   "cell_type": "code",
   "execution_count": 1,
   "metadata": {},
   "outputs": [
    {
     "data": {
      "text/plain": [
       "array([1.5, 3.5])"
      ]
     },
     "execution_count": 1,
     "metadata": {},
     "output_type": "execute_result"
    }
   ],
   "source": [
    "import numpy as np\n",
    "import doctest\n",
    "\n",
    "def predict_y(X, w):\n",
    "    '''Multiply two vectors (same size) element-wise:\n",
    "    >>> predict_y([1,2,3], [4,5,6])\n",
    "    array([ 4, 10, 18])\n",
    "    '''\n",
    "    return np.mean(np.multiply(X, w), axis=1)\n",
    "\n",
    "predict_y([[1, 2], [3, 4]], [1, 1])"
   ]
  },
  {
   "cell_type": "markdown",
   "metadata": {},
   "source": [
    "## The Sigmoid Function\n",
    "\n",
    "Recall that the sigmoid function is used to map our previous linear regression model to a range of 0 to 1, satisfying basic premises of probability. As a reminder, the sigmoid function is defined by:  \n",
    "$\\frac{1}{1+e^(-x)}$  \n",
    "Write this as a python function where x is the input and the function outputs the result of the sigmoid function."
   ]
  },
  {
   "cell_type": "code",
   "execution_count": 2,
   "metadata": {},
   "outputs": [],
   "source": [
    "def sigmoid(x):\n",
    "    return 1/(1 + np.exp(-x))"
   ]
  },
  {
   "cell_type": "markdown",
   "metadata": {},
   "source": [
    "## Graphing the Sigmoid\n",
    "\n",
    "For good measure, let's do a brief investigation of your new function. Graph the output of your sigmoid function using 10,000 X values evenly spaced from -20 to 20."
   ]
  },
  {
   "cell_type": "code",
   "execution_count": 11,
   "metadata": {},
   "outputs": [
    {
     "data": {
      "image/png": "[encoded data removed]",
      "text/plain": [
       "<Figure size 432x288 with 1 Axes>"
      ]
     },
     "metadata": {
      "needs_background": "light"
     },
     "output_type": "display_data"
    }
   ],
   "source": [
    "import seaborn as sns\n",
    "\n",
    "X_s = np.linspace(-20, 20, 10000)\n",
    "Y_s = [sigmoid(x) for x in X_s]\n",
    "sns.lineplot(X_s, Y_s);"
   ]
  },
  {
   "cell_type": "markdown",
   "metadata": {},
   "source": [
    "## Gradient Descent with the Sigmoid Function\n",
    "\n",
    "Recall that gradient descent is a numerical method for finding a minimum to a cost function. In the case of logistic regression, we are looking to minimize the error between our model's predictions and the actual data labels. To do this, we first calculate an error vector based on the current model's feature weights. We then multiply the transpose of the training matrix itself by this error vector in order to obtain the gradient. Finally, we take the gradient, multiply it by our step size and add this to our current weight vector to update it. Below, write such a function. It will take 5 inputs:  \n",
    "* X\n",
    "* y\n",
    "* max_iterations\n",
    "* alpha (the step size)\n",
    "* initial_weights  \n",
    "By default, have your function set the initial_weights parameter to a vector where all feature weights are set to 1."
   ]
  },
  {
   "cell_type": "code",
   "execution_count": 69,
   "metadata": {},
   "outputs": [],
   "source": [
    "# Your code here\n",
    "def grad_desc(X, y, max_iterations=10000, alpha=1/10000, initial_weights=None):\n",
    "    \"\"\"Be sure to set default behavior for the initial_weights parameter.\"\"\"\n",
    "    if initial_weights is not None:\n",
    "        temp_weights = initial_weights\n",
    "    else:\n",
    "        temp_weights = np.ones(X.shape[1])\n",
    "        \n",
    "    #Create a for loop of iterations\n",
    "    for i in range(max_iterations):\n",
    "        \n",
    "        #Generate predictions using the current feature weights\n",
    "        y_preds = sigmoid(predict_y(X, temp_weights))\n",
    "        \n",
    "        #Calculate an error vector based on these initial predictions and the correct labels\n",
    "        error_vector = y - y_preds\n",
    "        \n",
    "        #Calculate the gradient \n",
    "        #As we saw in the previous lab, calculating the gradient is often the most difficult task.\n",
    "        #Here, your are provided with the closed form solution for the gradient of the log-loss function derived from MLE\n",
    "        #For more details on the derivation, see the additional resources section below.\n",
    "        gradient = np.dot(X.transpose(), error_vector) \n",
    "        \n",
    "        #Update the weight vector take a step of alpha in direction of gradient\n",
    "        temp_weights += gradient * alpha\n",
    "        \n",
    "    #Return finalized Weights\n",
    "    return temp_weights"
   ]
  },
  {
   "cell_type": "markdown",
   "metadata": {},
   "source": [
    "## Running Your Algorithm\n",
    "\n",
    "Now that we've coded everything from the ground up, we can further investigate the convergence behavior of our gradient descent algorithm. Remember that gradient descent does not gaurantee a global minimum, only a local minimum, and that small deviations in the starting point or step size can lead to different outputs.  \n",
    "  \n",
    "Let's begin by running our algorithm and plotting the successive weights of the features through iterations. Below is a dataset, with X and y predefined for you. Use your logistic regression function to find train a model. As the model trains, record the iteration cycle of the gradient descent algorithm and the weights of the various features. Then, plot this data on subplots for each of the individual features. Each graph should have the iteration number on the x-axis and the value of that feature weight for that iteration cycle on the y-axis. This will visually display how the algorithm is adjusting the weights over successive iterations, and hopefully show convergence on stable weights."
   ]
  },
  {
   "cell_type": "code",
   "execution_count": 70,
   "metadata": {
    "scrolled": true
   },
   "outputs": [
    {
     "name": "stdout",
     "output_type": "stream",
     "text": [
      "[[1.0, 1.0, 1.0, 1.0, 1.0, 1.0, 1.0, 1.0, 1.0, 1.0, 1.0, 1.0, 1.0]]\n",
      "[0.992, 0.984, 1.008, 0.995, 0.997, 0.998, 1.0, 1.0, 0.981, 0.992, 1.002, 0.991, 0.988]\n",
      "[0.406, -0.352, 1.92, 0.629, 0.783, 0.811, 1.124, 1.244, -0.698, 0.308, 1.428, 0.138, 0.075]\n",
      "[0.061, -1.303, 2.894, 0.423, 0.688, 0.699, 1.345, 1.709, -2.09, -0.27, 2.102, -0.6, -0.477]\n",
      "[-0.173, -2.056, 3.857, 0.287, 0.645, 0.623, 1.598, 2.253, -3.292, -0.785, 2.853, -1.27, -0.863]\n",
      "[-0.356, -2.699, 4.779, 0.183, 0.623, 0.565, 1.856, 2.81, -4.354, -1.258, 3.608, -1.898, -1.171]\n",
      "[-0.513, -3.273, 5.651, 0.092, 0.61, 0.517, 2.109, 3.357, -5.305, -1.7, 4.337, -2.493, -1.44]\n",
      "[-0.657, -3.798, 6.471, 0.008, 0.6, 0.476, 2.351, 3.882, -6.162, -2.117, 5.03, -3.063, -1.689]\n",
      "[-0.792, -4.285, 7.243, -0.074, 0.59, 0.44, 2.582, 4.383, -6.938, -2.512, 5.684, -3.61, -1.924]\n",
      "[-0.92, -4.739, 7.969, -0.154, 0.58, 0.408, 2.801, 4.86, -7.642, -2.888, 6.301, -4.138, -2.151]\n",
      "[-1.044, -5.166, 8.654, -0.232, 0.569, 0.378, 3.01, 5.314, -8.281, -3.247, 6.883, -4.648, -2.37]\n",
      "[-1.164, -5.569, 9.3, -0.311, 0.556, 0.352, 3.21, 5.748, -8.864, -3.59, 7.432, -5.141, -2.583]\n",
      "[-1.28, -5.95, 9.912, -0.388, 0.543, 0.329, 3.4, 6.163, -9.395, -3.92, 7.952, -5.619, -2.791]\n",
      "[-1.392, -6.311, 10.492, -0.465, 0.53, 0.308, 3.582, 6.559, -9.88, -4.236, 8.445, -6.082, -2.994]\n",
      "[-1.501, -6.654, 11.042, -0.542, 0.515, 0.29, 3.757, 6.94, -10.322, -4.54, 8.913, -6.532, -3.193]\n",
      "[-1.606, -6.981, 11.566, -0.618, 0.5, 0.274, 3.924, 7.306, -10.727, -4.833, 9.358, -6.97, -3.387]\n",
      "[-1.708, -7.292, 12.066, -0.693, 0.485, 0.259, 4.086, 7.658, -11.098, -5.116, 9.781, -7.396, -3.578]\n",
      "[-1.807, -7.59, 12.542, -0.768, 0.468, 0.247, 4.241, 7.997, -11.437, -5.39, 10.185, -7.81, -3.765]\n",
      "[-1.903, -7.874, 12.998, -0.842, 0.452, 0.237, 4.391, 8.325, -11.748, -5.655, 10.571, -8.215, -3.948]\n",
      "[-1.996, -8.147, 13.434, -0.916, 0.435, 0.228, 4.536, 8.642, -12.033, -5.911, 10.941, -8.609, -4.127]\n",
      "[-2.087, -8.409, 13.852, -0.989, 0.418, 0.221, 4.677, 8.949, -12.294, -6.16, 11.294, -8.994, -4.304]\n",
      "done.\n"
     ]
    }
   ],
   "source": [
    "import pandas as pd\n",
    "import numpy as np\n",
    "\n",
    "df = pd.read_csv('heart.csv')\n",
    "\n",
    "X = df[df.columns[:-1]]\n",
    "y = df.target\n",
    "\n",
    "weights_over_time = [np.ones(X.shape[1]).tolist()]\n",
    "print(weights_over_time)\n",
    "test = [[1.0, 1.0, 1.0, 1.0, 1.0, 1.0, 1.0, 1.0, 1.0, 1.0, 1.0, 1.0, 1.0]]\n",
    "for n in range(2000):\n",
    "    recent_weights = grad_desc(X, y, max_iterations=5, initial_weights=weights_over_time[-1])\n",
    "    weights_over_time.append(recent_weights)\n",
    "    if n % 100 == 0:\n",
    "        verbose = [round(x,3) for x in recent_weights]\n",
    "        print(verbose)\n",
    "        test.append(verbose)                     \n",
    "#weights_over_time\n",
    "print('done.')"
   ]
  },
  {
   "cell_type": "code",
   "execution_count": 71,
   "metadata": {},
   "outputs": [
    {
     "data": {
      "text/plain": [
       "<matplotlib.axes._subplots.AxesSubplot at 0x7fe293f32a90>"
      ]
     },
     "execution_count": 71,
     "metadata": {},
     "output_type": "execute_result"
    },
    {
     "data": {
      "image/png": "[encoded data removed]",
      "text/plain": [
       "<Figure size 432x288 with 1 Axes>"
      ]
     },
     "metadata": {
      "needs_background": "light"
     },
     "output_type": "display_data"
    }
   ],
   "source": [
    "test_output = pd.DataFrame(test)\n",
    "cols = test_output.columns\n",
    "test_output['iterations'] = np.arange(0, 1005, 50)\n",
    "test_output.plot(x=\"iterations\", y=cols);"
   ]
  },
  {
   "cell_type": "code",
   "execution_count": 58,
   "metadata": {},
   "outputs": [
    {
     "data": {
      "text/plain": [
       "21"
      ]
     },
     "execution_count": 58,
     "metadata": {},
     "output_type": "execute_result"
    }
   ],
   "source": [
    "\n",
    "time_x = np.arange(0, 1005, 50)\n",
    "len(time_x)\n",
    "#len(test_output)"
   ]
  },
  {
   "cell_type": "code",
   "execution_count": 9,
   "metadata": {},
   "outputs": [
    {
     "name": "stdout",
     "output_type": "stream",
     "text": [
      "1.0    165\n",
      "0.0    138\n",
      "Name: target, dtype: int64\n"
     ]
    },
    {
     "data": {
      "text/plain": [
       "array([ -0.57592597,  -7.21184424,  14.70844387,  -0.05028691,\n",
       "         1.23146282,   0.43528515,   5.35167991,  10.89110559,\n",
       "       -11.57154703,  -5.69749248,  13.14751269,  -8.85748332,\n",
       "        -2.36507274])"
      ]
     },
     "execution_count": 9,
     "metadata": {},
     "output_type": "execute_result"
    }
   ],
   "source": [
    "final_weights = grad_desc(X, y)\n",
    "final_weights"
   ]
  },
  {
   "cell_type": "markdown",
   "metadata": {},
   "source": [
    "## sci-kit learn\n",
    "\n",
    "For comparison, import sci-kit learn's standard LogisticRegression function. Initialize a regression object with **no intercept** and with **C=1e16** or another very high number. The reason is as follows: our implementation has not used an intercept, and we have not performed any regularization such as Lasso or Ridge (sci-kit learn uses l2 by default). The high value of C will essentially negate this.\n",
    "\n",
    "After initializing a regression object, fit it to X and y."
   ]
  },
  {
   "cell_type": "code",
   "execution_count": 68,
   "metadata": {},
   "outputs": [
    {
     "data": {
      "text/plain": [
       "array([[ 0.81188264, -1.61288881,  2.61774505, -1.96817634, -1.50914614,\n",
       "         0.05698714,  1.1519504 ,  4.42061571, -0.83028331, -2.74638306,\n",
       "         1.45583595, -3.11560671, -2.19118636]])"
      ]
     },
     "execution_count": 68,
     "metadata": {},
     "output_type": "execute_result"
    }
   ],
   "source": [
    "from sklearn.linear_model import LogisticRegression\n",
    "log_reg = LogisticRegression(C=1e16, fit_intercept=False, solver='lbfgs')\n",
    "log_reg.fit(X,y)\n",
    "log_reg.coef_"
   ]
  },
  {
   "cell_type": "markdown",
   "metadata": {},
   "source": [
    "## Compare the models\n",
    "\n",
    "Compare the coefficient weights of your model to that generated by sci-kit learn."
   ]
  },
  {
   "cell_type": "code",
   "execution_count": 67,
   "metadata": {},
   "outputs": [
    {
     "data": {
      "text/plain": [
       "array([ -0.57592597,  -7.21184424,  14.70844387,  -0.05028691,\n",
       "         1.23146282,   0.43528515,   5.35167991,  10.89110559,\n",
       "       -11.57154703,  -5.69749248,  13.14751269,  -8.85748332,\n",
       "        -2.36507274])"
      ]
     },
     "execution_count": 67,
     "metadata": {},
     "output_type": "execute_result"
    }
   ],
   "source": [
    "sk_coef = log_reg.coef_\n",
    "final_weights"
   ]
  },
  {
   "cell_type": "markdown",
   "metadata": {},
   "source": [
    "## Level - Up\n",
    "\n",
    "Update the gradient descent algorithm to also return the prediction error after each iteration. Then rerun the algorithm and create a graph displaying the prediction errors versus the iteration number."
   ]
  },
  {
   "cell_type": "code",
   "execution_count": null,
   "metadata": {},
   "outputs": [],
   "source": [
    "# Your code here"
   ]
  },
  {
   "cell_type": "markdown",
   "metadata": {},
   "source": [
    "## Additional Resources\n",
    "\n",
    "If you want to see more of the mathematics behind the gradient derivation above, check out section 4.4.1 from the Elements of Statistical Learning which can be found here: https://web.stanford.edu/~hastie/ElemStatLearn//."
   ]
  },
  {
   "cell_type": "markdown",
   "metadata": {},
   "source": [
    "## Summary\n",
    "\n",
    "Congratulations! You just coded logistic regression from the ground up using NumPy! With this, you should have a fairly deep understanding of logistic regression and how the algorithm works! In the upcoming labs, we'll continue to explore this from a few more angles, plotting our data along with the decision boundary for our predictions."
   ]
  }
 ],
 "metadata": {
  "kernelspec": {
   "display_name": "Python 3",
   "language": "python",
   "name": "python3"
  },
  "language_info": {
   "codemirror_mode": {
    "name": "ipython",
    "version": 3
   },
   "file_extension": ".py",
   "mimetype": "text/x-python",
   "name": "python",
   "nbconvert_exporter": "python",
   "pygments_lexer": "ipython3",
   "version": "3.6.6"
  }
 },
 "nbformat": 4,
 "nbformat_minor": 2
}
