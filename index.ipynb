{
 "cells": [
  {
   "cell_type": "markdown",
   "metadata": {},
   "source": [
    "# Coding Logistic Regression From Scratch - Lab\n",
    "\n",
    "## Introduction\n",
    "\n",
    "In this lab, you'll practice your ability to translate mathematical algorithms into python functions. This will deepen and solidify your understanding of the logistic regression!\n",
    "\n",
    "## Objectives\n",
    "\n",
    "You will be able to:\n",
    "* Understand and implement logistic regression"
   ]
  },
  {
   "cell_type": "markdown",
   "metadata": {},
   "source": [
    "## Overview\n",
    "\n",
    "Recall that the logistic regression algorithm take our previous intuition from logistic regression. In logistic regression, we start by taking our input data, X and multiplying it by a vector of weights for each of the individual features, which produces our output y. Afterwards we'll work on using an iterative approach via gradient descent to tune these weights."
   ]
  },
  {
   "cell_type": "markdown",
   "metadata": {},
   "source": [
    "## Linear Regression Setup\n",
    "\n",
    "Write a simple function `predict_y` that takes in a matrix `X` of observations and a vector of feature weights `w` and outputs a vector of predictions for the various observations.\n",
    "\n",
    "Recall that this is the sum of the product of each of the feature observations and their corresponding feature weights:  \n",
    "$ \\hat{y}_i = X_{i1} \\bullet w_1 + X_{i2} \\bullet w_2 + X_{i3} \\bullet w_3 + ... + X_{in} \\bullet w_n$\n",
    "\n",
    "Hint: think about which mathematical operation we previously discussed that will take a matrix (X) and multiply it by a vector of weights (w) to succinctly do this in a single operation."
   ]
  },
  {
   "cell_type": "code",
   "execution_count": 1,
   "metadata": {},
   "outputs": [
    {
     "data": {
      "text/plain": [
       "array([1.5, 3.5])"
      ]
     },
     "execution_count": 1,
     "metadata": {},
     "output_type": "execute_result"
    }
   ],
   "source": [
    "import numpy as np\n",
    "import doctest\n",
    "\n",
    "def predict_y(X, w):\n",
    "    '''Multiply two vectors (same size) element-wise:\n",
    "    >>> predict_y([1,2,3], [4,5,6])\n",
    "    array([ 4, 10, 18])\n",
    "    '''\n",
    "    return np.mean(np.multiply(X, w), axis=1)\n",
    "\n",
    "predict_y([[1, 2], [3, 4]], [1, 1])"
   ]
  },
  {
   "cell_type": "markdown",
   "metadata": {},
   "source": [
    "## The Sigmoid Function\n",
    "\n",
    "Recall that the sigmoid function is used to map our previous linear regression model to a range of 0 to 1, satisfying basic premises of probability. As a reminder, the sigmoid function is defined by:  \n",
    "$\\frac{1}{1+e^(-x)}$  \n",
    "Write this as a python function where x is the input and the function outputs the result of the sigmoid function."
   ]
  },
  {
   "cell_type": "code",
   "execution_count": 2,
   "metadata": {},
   "outputs": [],
   "source": [
    "def sigmoid(x):\n",
    "    return 1/(1 + np.exp(-x))"
   ]
  },
  {
   "cell_type": "markdown",
   "metadata": {},
   "source": [
    "## Graphing the Sigmoid\n",
    "\n",
    "For good measure, let's do a brief investigation of your new function. Graph the output of your sigmoid function using 10,000 X values evenly spaced from -20 to 20."
   ]
  },
  {
   "cell_type": "code",
   "execution_count": 11,
   "metadata": {},
   "outputs": [
    {
     "data": {
      "image/png": "[encoded data removed]",
      "text/plain": [
       "<Figure size 432x288 with 1 Axes>"
      ]
     },
     "metadata": {
      "needs_background": "light"
     },
     "output_type": "display_data"
    }
   ],
   "source": [
    "import seaborn as sns\n",
    "\n",
    "X_s = np.linspace(-20, 20, 10000)\n",
    "Y_s = [sigmoid(x) for x in X_s]\n",
    "sns.lineplot(X_s, Y_s);"
   ]
  },
  {
   "cell_type": "markdown",
   "metadata": {},
   "source": [
    "## Gradient Descent with the Sigmoid Function\n",
    "\n",
    "Recall that gradient descent is a numerical method for finding a minimum to a cost function. In the case of logistic regression, we are looking to minimize the error between our model's predictions and the actual data labels. To do this, we first calculate an error vector based on the current model's feature weights. We then multiply the transpose of the training matrix itself by this error vector in order to obtain the gradient. Finally, we take the gradient, multiply it by our step size and add this to our current weight vector to update it. Below, write such a function. It will take 5 inputs:  \n",
    "* X\n",
    "* y\n",
    "* max_iterations\n",
    "* alpha (the step size)\n",
    "* initial_weights  \n",
    "By default, have your function set the initial_weights parameter to a vector where all feature weights are set to 1."
   ]
  },
  {
   "cell_type": "code",
   "execution_count": 30,
   "metadata": {},
   "outputs": [],
   "source": [
    "# Your code here\n",
    "def grad_desc(X, y, max_iterations=10000, alpha=1/10000, initial_weights=None):\n",
    "    \"\"\"Be sure to set default behavior for the initial_weights parameter.\"\"\"\n",
    "    if initial_weights is not None:\n",
    "        temp_weights = initial_weights\n",
    "    else:\n",
    "        temp_weights = np.ones(X.shape[1])\n",
    "        \n",
    "    #Create a for loop of iterations\n",
    "    for i in range(max_iterations):\n",
    "        \n",
    "        #Generate predictions using the current feature weights\n",
    "        y_preds = predict_y(sigmoid(X), temp_weights)\n",
    "        \n",
    "        #Calculate an error vector based on these initial predictions and the correct labels\n",
    "        error_vector = y - y_preds\n",
    "        \n",
    "        #Calculate the gradient \n",
    "        #As we saw in the previous lab, calculating the gradient is often the most difficult task.\n",
    "        #Here, your are provided with the closed form solution for the gradient of the log-loss function derived from MLE\n",
    "        #For more details on the derivation, see the additional resources section below.\n",
    "        gradient = np.dot(X.transpose(), error_vector) \n",
    "        \n",
    "        #Update the weight vector take a step of alpha in direction of gradient\n",
    "        temp_weights += gradient * alpha\n",
    "        \n",
    "    #Return finalized Weights\n",
    "    return temp_weights"
   ]
  },
  {
   "cell_type": "markdown",
   "metadata": {},
   "source": [
    "## Running Your Algorithm\n",
    "\n",
    "Now that we've coded everything from the ground up, we can further investigate the convergence behavior of our gradient descent algorithm. Remember that gradient descent does not gaurantee a global minimum, only a local minimum, and that small deviations in the starting point or step size can lead to different outputs.  \n",
    "  \n",
    "Let's begin by running our algorithm and plotting the successive weights of the features through iterations. Below is a dataset, with X and y predefined for you. Use your logistic regression function to find train a model. As the model trains, record the iteration cycle of the gradient descent algorithm and the weights of the various features. Then, plot this data on subplots for each of the individual features. Each graph should have the iteration number on the x-axis and the value of that feature weight for that iteration cycle on the y-axis. This will visually display how the algorithm is adjusting the weights over successive iterations, and hopefully show convergence on stable weights."
   ]
  },
  {
   "cell_type": "code",
   "execution_count": 47,
   "metadata": {
    "scrolled": true
   },
   "outputs": [
    {
     "name": "stdout",
     "output_type": "stream",
     "text": [
      "[[1.0, 1.0, 1.0, 1.0, 1.0, 1.0, 1.0, 1.0, 1.0, 1.0, 1.0, 1.0, 1.0]]\n",
      "[0.993, 0.984, 1.009, 0.995, 0.997, 0.998, 1.001, 1.001, 0.981, 0.992, 1.002, 0.991, 0.988]\n",
      "[0.738, 0.068, 2.124, 0.852, 0.956, 0.904, 1.29, 1.622, -0.498, 0.413, 1.868, 0.25, 0.558]\n",
      "[0.644, -0.595, 3.255, 0.814, 0.993, 0.857, 1.636, 2.377, -1.755, -0.087, 2.873, -0.407, 0.365]\n",
      "[0.556, -1.21, 4.312, 0.775, 1.027, 0.815, 1.963, 3.092, -2.898, -0.558, 3.816, -1.038, 0.181]\n",
      "[0.471, -1.784, 5.299, 0.734, 1.058, 0.776, 2.27, 3.767, -3.937, -1.003, 4.698, -1.644, 0.002]\n",
      "[0.388, -2.321, 6.221, 0.691, 1.086, 0.739, 2.559, 4.405, -4.88, -1.424, 5.522, -2.227, -0.173]\n",
      "[0.307, -2.823, 7.083, 0.647, 1.11, 0.704, 2.83, 5.009, -5.735, -1.822, 6.294, -2.788, -0.343]\n",
      "[0.229, -3.291, 7.888, 0.602, 1.132, 0.672, 3.086, 5.58, -6.509, -2.2, 7.016, -3.328, -0.509]\n",
      "[0.153, -3.73, 8.641, 0.556, 1.151, 0.643, 3.327, 6.121, -7.209, -2.557, 7.692, -3.848, -0.671]\n",
      "[0.08, -4.139, 9.346, 0.508, 1.167, 0.615, 3.554, 6.634, -7.84, -2.897, 8.325, -4.349, -0.829]\n",
      "[0.009, -4.522, 10.006, 0.46, 1.181, 0.59, 3.768, 7.121, -8.407, -3.219, 8.918, -4.833, -0.984]\n",
      "[-0.06, -4.879, 10.623, 0.41, 1.193, 0.567, 3.97, 7.584, -8.917, -3.525, 9.473, -5.3, -1.136]\n",
      "[-0.126, -5.214, 11.202, 0.36, 1.203, 0.546, 4.161, 8.024, -9.374, -3.815, 9.993, -5.75, -1.284]\n",
      "[-0.19, -5.526, 11.744, 0.31, 1.212, 0.526, 4.341, 8.443, -9.782, -4.092, 10.481, -6.186, -1.429]\n",
      "[-0.252, -5.819, 12.252, 0.259, 1.219, 0.509, 4.511, 8.843, -10.145, -4.355, 10.939, -6.606, -1.571]\n",
      "[-0.311, -6.092, 12.729, 0.208, 1.224, 0.493, 4.671, 9.224, -10.467, -4.606, 11.368, -7.013, -1.71]\n",
      "[-0.368, -6.347, 13.177, 0.157, 1.228, 0.478, 4.823, 9.588, -10.752, -4.846, 11.771, -7.407, -1.846]\n",
      "[-0.424, -6.586, 13.597, 0.105, 1.23, 0.465, 4.967, 9.936, -11.002, -5.074, 12.149, -7.788, -1.98]\n",
      "[-0.477, -6.81, 13.992, 0.053, 1.232, 0.454, 5.102, 10.269, -11.22, -5.292, 12.504, -8.157, -2.111]\n",
      "[-0.528, -7.018, 14.363, 0.001, 1.232, 0.444, 5.231, 10.588, -11.41, -5.5, 12.837, -8.514, -2.24]\n",
      "done.\n"
     ]
    }
   ],
   "source": [
    "import pandas as pd\n",
    "import numpy as np\n",
    "\n",
    "df = pd.read_csv('heart.csv')\n",
    "\n",
    "X = df[df.columns[:-1]]\n",
    "y = df.target\n",
    "\n",
    "weights_over_time = [np.ones(X.shape[1]).tolist()]\n",
    "print(weights_over_time)\n",
    "test = [[1.0, 1.0, 1.0, 1.0, 1.0, 1.0, 1.0, 1.0, 1.0, 1.0, 1.0, 1.0, 1.0]]\n",
    "for n in range(2000):\n",
    "    recent_weights = grad_desc(X, y, max_iterations=5, initial_weights=weights_over_time[-1])\n",
    "    weights_over_time.append(recent_weights)\n",
    "    if n % 100 == 0:\n",
    "        verbose = [round(x,3) for x in recent_weights]\n",
    "        print(verbose)\n",
    "        test.append(verbose)                     \n",
    "#weights_over_time\n",
    "print('done.')"
   ]
  },
  {
   "cell_type": "code",
   "execution_count": 59,
   "metadata": {},
   "outputs": [
    {
     "data": {
      "text/html": [
       "<div>\n",
       "<style scoped>\n",
       "    .dataframe tbody tr th:only-of-type {\n",
       "        vertical-align: middle;\n",
       "    }\n",
       "\n",
       "    .dataframe tbody tr th {\n",
       "        vertical-align: top;\n",
       "    }\n",
       "\n",
       "    .dataframe thead th {\n",
       "        text-align: right;\n",
       "    }\n",
       "</style>\n",
       "<table border=\"1\" class=\"dataframe\">\n",
       "  <thead>\n",
       "    <tr style=\"text-align: right;\">\n",
       "      <th></th>\n",
       "      <th>0</th>\n",
       "      <th>1</th>\n",
       "      <th>2</th>\n",
       "      <th>3</th>\n",
       "      <th>4</th>\n",
       "      <th>5</th>\n",
       "      <th>6</th>\n",
       "      <th>7</th>\n",
       "      <th>8</th>\n",
       "      <th>9</th>\n",
       "      <th>10</th>\n",
       "      <th>11</th>\n",
       "      <th>12</th>\n",
       "    </tr>\n",
       "  </thead>\n",
       "  <tbody>\n",
       "    <tr>\n",
       "      <th>0</th>\n",
       "      <td>1.000</td>\n",
       "      <td>1.000</td>\n",
       "      <td>1.000</td>\n",
       "      <td>1.000</td>\n",
       "      <td>1.000</td>\n",
       "      <td>1.000</td>\n",
       "      <td>1.000</td>\n",
       "      <td>1.000</td>\n",
       "      <td>1.000</td>\n",
       "      <td>1.000</td>\n",
       "      <td>1.000</td>\n",
       "      <td>1.000</td>\n",
       "      <td>1.000</td>\n",
       "    </tr>\n",
       "    <tr>\n",
       "      <th>1</th>\n",
       "      <td>0.993</td>\n",
       "      <td>0.984</td>\n",
       "      <td>1.009</td>\n",
       "      <td>0.995</td>\n",
       "      <td>0.997</td>\n",
       "      <td>0.998</td>\n",
       "      <td>1.001</td>\n",
       "      <td>1.001</td>\n",
       "      <td>0.981</td>\n",
       "      <td>0.992</td>\n",
       "      <td>1.002</td>\n",
       "      <td>0.991</td>\n",
       "      <td>0.988</td>\n",
       "    </tr>\n",
       "    <tr>\n",
       "      <th>2</th>\n",
       "      <td>0.738</td>\n",
       "      <td>0.068</td>\n",
       "      <td>2.124</td>\n",
       "      <td>0.852</td>\n",
       "      <td>0.956</td>\n",
       "      <td>0.904</td>\n",
       "      <td>1.290</td>\n",
       "      <td>1.622</td>\n",
       "      <td>-0.498</td>\n",
       "      <td>0.413</td>\n",
       "      <td>1.868</td>\n",
       "      <td>0.250</td>\n",
       "      <td>0.558</td>\n",
       "    </tr>\n",
       "    <tr>\n",
       "      <th>3</th>\n",
       "      <td>0.644</td>\n",
       "      <td>-0.595</td>\n",
       "      <td>3.255</td>\n",
       "      <td>0.814</td>\n",
       "      <td>0.993</td>\n",
       "      <td>0.857</td>\n",
       "      <td>1.636</td>\n",
       "      <td>2.377</td>\n",
       "      <td>-1.755</td>\n",
       "      <td>-0.087</td>\n",
       "      <td>2.873</td>\n",
       "      <td>-0.407</td>\n",
       "      <td>0.365</td>\n",
       "    </tr>\n",
       "    <tr>\n",
       "      <th>4</th>\n",
       "      <td>0.556</td>\n",
       "      <td>-1.210</td>\n",
       "      <td>4.312</td>\n",
       "      <td>0.775</td>\n",
       "      <td>1.027</td>\n",
       "      <td>0.815</td>\n",
       "      <td>1.963</td>\n",
       "      <td>3.092</td>\n",
       "      <td>-2.898</td>\n",
       "      <td>-0.558</td>\n",
       "      <td>3.816</td>\n",
       "      <td>-1.038</td>\n",
       "      <td>0.181</td>\n",
       "    </tr>\n",
       "  </tbody>\n",
       "</table>\n",
       "</div>"
      ],
      "text/plain": [
       "      0      1      2      3      4      5      6      7      8      9   \\\n",
       "0  1.000  1.000  1.000  1.000  1.000  1.000  1.000  1.000  1.000  1.000   \n",
       "1  0.993  0.984  1.009  0.995  0.997  0.998  1.001  1.001  0.981  0.992   \n",
       "2  0.738  0.068  2.124  0.852  0.956  0.904  1.290  1.622 -0.498  0.413   \n",
       "3  0.644 -0.595  3.255  0.814  0.993  0.857  1.636  2.377 -1.755 -0.087   \n",
       "4  0.556 -1.210  4.312  0.775  1.027  0.815  1.963  3.092 -2.898 -0.558   \n",
       "\n",
       "      10     11     12  \n",
       "0  1.000  1.000  1.000  \n",
       "1  1.002  0.991  0.988  \n",
       "2  1.868  0.250  0.558  \n",
       "3  2.873 -0.407  0.365  \n",
       "4  3.816 -1.038  0.181  "
      ]
     },
     "execution_count": 59,
     "metadata": {},
     "output_type": "execute_result"
    }
   ],
   "source": [
    "test_output.head()"
   ]
  },
  {
   "cell_type": "code",
   "execution_count": 61,
   "metadata": {},
   "outputs": [
    {
     "data": {
      "text/plain": [
       "<matplotlib.axes._subplots.AxesSubplot at 0x7fe2990cd5c0>"
      ]
     },
     "execution_count": 61,
     "metadata": {},
     "output_type": "execute_result"
    },
    {
     "data": {
      "image/png": "[encoded data removed]",
      "text/plain": [
       "<Figure size 432x288 with 1 Axes>"
      ]
     },
     "metadata": {
      "needs_background": "light"
     },
     "output_type": "display_data"
    }
   ],
   "source": [
    "test_output = pd.DataFrame(test)\n",
    "cols = test_output.columns\n",
    "test_output['iterations'] = np.arange(0, 1005, 50)\n",
    "test_output.plot(x=\"iterations\", y=cols)"
   ]
  },
  {
   "cell_type": "code",
   "execution_count": 58,
   "metadata": {},
   "outputs": [
    {
     "data": {
      "text/plain": [
       "21"
      ]
     },
     "execution_count": 58,
     "metadata": {},
     "output_type": "execute_result"
    }
   ],
   "source": [
    "\n",
    "time_x = np.arange(0, 1005, 50)\n",
    "len(time_x)\n",
    "#len(test_output)"
   ]
  },
  {
   "cell_type": "code",
   "execution_count": 9,
   "metadata": {},
   "outputs": [
    {
     "name": "stdout",
     "output_type": "stream",
     "text": [
      "1.0    165\n",
      "0.0    138\n",
      "Name: target, dtype: int64\n"
     ]
    },
    {
     "data": {
      "text/plain": [
       "array([ -0.57592597,  -7.21184424,  14.70844387,  -0.05028691,\n",
       "         1.23146282,   0.43528515,   5.35167991,  10.89110559,\n",
       "       -11.57154703,  -5.69749248,  13.14751269,  -8.85748332,\n",
       "        -2.36507274])"
      ]
     },
     "execution_count": 9,
     "metadata": {},
     "output_type": "execute_result"
    }
   ],
   "source": [
    "final_weights = grad_desc(X, y)\n",
    "final_weights"
   ]
  },
  {
   "cell_type": "markdown",
   "metadata": {},
   "source": [
    "## sci-kit learn\n",
    "\n",
    "For comparison, import sci-kit learn's standard LogisticRegression function. Initialize a regression object with **no intercept** and with **C=1e16** or another very high number. The reason is as follows: our implementation has not used an intercept, and we have not performed any regularization such as Lasso or Ridge (sci-kit learn uses l2 by default). The high value of C will essentially negate this.\n",
    "\n",
    "After initializing a regression object, fit it to X and y."
   ]
  },
  {
   "cell_type": "code",
   "execution_count": 64,
   "metadata": {},
   "outputs": [
    {
     "data": {
      "text/plain": [
       "LogisticRegression(C=1e+16, class_weight=None, dual=False,\n",
       "          fit_intercept=False, intercept_scaling=1, max_iter=100,\n",
       "          multi_class='warn', n_jobs=None, penalty='l2', random_state=None,\n",
       "          solver='lbfgs', tol=0.0001, verbose=0, warm_start=False)"
      ]
     },
     "execution_count": 64,
     "metadata": {},
     "output_type": "execute_result"
    }
   ],
   "source": [
    "from sklearn.linear_model import LogisticRegression\n",
    "log_reg = LogisticRegression(C=1e16, fit_intercept=False, solver='lbfgs')\n",
    "log_reg.fit(X,y)\n",
    "log_reg.coef_"
   ]
  },
  {
   "cell_type": "markdown",
   "metadata": {},
   "source": [
    "## Compare the models\n",
    "\n",
    "Compare the coefficient weights of your model to that generated by sci-kit learn."
   ]
  },
  {
   "cell_type": "code",
   "execution_count": 67,
   "metadata": {},
   "outputs": [
    {
     "data": {
      "text/plain": [
       "array([ -0.57592597,  -7.21184424,  14.70844387,  -0.05028691,\n",
       "         1.23146282,   0.43528515,   5.35167991,  10.89110559,\n",
       "       -11.57154703,  -5.69749248,  13.14751269,  -8.85748332,\n",
       "        -2.36507274])"
      ]
     },
     "execution_count": 67,
     "metadata": {},
     "output_type": "execute_result"
    }
   ],
   "source": [
    "sk_coef = log_reg.coef_\n",
    "final_weights"
   ]
  },
  {
   "cell_type": "markdown",
   "metadata": {},
   "source": [
    "## Level - Up\n",
    "\n",
    "Update the gradient descent algorithm to also return the prediction error after each iteration. Then rerun the algorithm and create a graph displaying the prediction errors versus the iteration number."
   ]
  },
  {
   "cell_type": "code",
   "execution_count": null,
   "metadata": {},
   "outputs": [],
   "source": [
    "# Your code here"
   ]
  },
  {
   "cell_type": "markdown",
   "metadata": {},
   "source": [
    "## Additional Resources\n",
    "\n",
    "If you want to see more of the mathematics behind the gradient derivation above, check out section 4.4.1 from the Elements of Statistical Learning which can be found here: https://web.stanford.edu/~hastie/ElemStatLearn//."
   ]
  },
  {
   "cell_type": "markdown",
   "metadata": {},
   "source": [
    "## Summary\n",
    "\n",
    "Congratulations! You just coded logistic regression from the ground up using NumPy! With this, you should have a fairly deep understanding of logistic regression and how the algorithm works! In the upcoming labs, we'll continue to explore this from a few more angles, plotting our data along with the decision boundary for our predictions."
   ]
  }
 ],
 "metadata": {
  "kernelspec": {
   "display_name": "Python 3",
   "language": "python",
   "name": "python3"
  },
  "language_info": {
   "codemirror_mode": {
    "name": "ipython",
    "version": 3
   },
   "file_extension": ".py",
   "mimetype": "text/x-python",
   "name": "python",
   "nbconvert_exporter": "python",
   "pygments_lexer": "ipython3",
   "version": "3.6.6"
  }
 },
 "nbformat": 4,
 "nbformat_minor": 2
}
